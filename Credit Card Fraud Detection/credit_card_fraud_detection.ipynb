{
 "cells": [
  {
   "cell_type": "markdown",
   "id": "25eb308f",
   "metadata": {},
   "source": [
    "### Introduction\n",
    "In this kernel we will use various predictive models to see how accurate they are in detecting whether a transaction is a normal payment or a fraud. As described in the dataset, the features are scaled and the names of the features are not shown due to privacy reasons. Nevertheless, we can still analyze some important aspects of the dataset. Let's start!"
   ]
  },
  {
   "cell_type": "markdown",
   "id": "99960b0a",
   "metadata": {},
   "source": [
    "### Outline:\n",
    "#### Exploratory Data Analysis\n",
    "1) Reading and Understanding Data  \n",
    "2) Visualize Transaction Count by Hour  \n",
    "3) Visualize Transaction Amount by Hour\n",
    "4) Finding Feature Correlation\n",
    "\n",
    "#### Data Preprocessing\n",
    "1) Feature Scaling  \n",
    "2) Train-Test Split  \n",
    "\n",
    "#### Testing Classifiers for Fraud Detection\n",
    "1) Testing on original dataset with imbalanced classes  \n",
    "2) Testing on sampled dataset with balanced classes  \n",
    "3) Testing on original dataset with balanced classes  \n",
    "4) Conclusion"
   ]
  },
  {
   "cell_type": "code",
   "execution_count": 1,
   "id": "f00bee0f",
   "metadata": {},
   "outputs": [],
   "source": [
    "import numpy as np\n",
    "\n",
    "import pandas as pd\n",
    "pd.set_option('max_rows', 50)   \n",
    "pd.set_option('max_columns', 100)\n",
    "pd.set_option('precision', 2)   # round to two decimal points\n",
    "pd.set_option('float_format', '{:,.2f}'.format)   # suppress scientific notation globally\n",
    "\n",
    "import time\n",
    "\n",
    "import matplotlib.pyplot as plt\n",
    "plt.style.use('seaborn')\n",
    "%matplotlib inline\n",
    "\n",
    "import seaborn as sns\n",
    "sns.set_theme(style='darkgrid', context='notebook', palette='muted', font='sans-serif', font_scale=1, color_codes=True)\n",
    "\n",
    "import warnings\n",
    "warnings.filterwarnings('ignore')"
   ]
  },
  {
   "cell_type": "markdown",
   "id": "4dba304f",
   "metadata": {},
   "source": [
    "## Exploratory Data Analysis"
   ]
  },
  {
   "cell_type": "markdown",
   "id": "6ffba28e",
   "metadata": {},
   "source": [
    "### Reading and Understanding Data"
   ]
  },
  {
   "cell_type": "code",
   "execution_count": 2,
   "id": "6da8935c",
   "metadata": {},
   "outputs": [
    {
     "data": {
      "text/html": [
       "<div>\n",
       "<style scoped>\n",
       "    .dataframe tbody tr th:only-of-type {\n",
       "        vertical-align: middle;\n",
       "    }\n",
       "\n",
       "    .dataframe tbody tr th {\n",
       "        vertical-align: top;\n",
       "    }\n",
       "\n",
       "    .dataframe thead th {\n",
       "        text-align: right;\n",
       "    }\n",
       "</style>\n",
       "<table border=\"1\" class=\"dataframe\">\n",
       "  <thead>\n",
       "    <tr style=\"text-align: right;\">\n",
       "      <th></th>\n",
       "      <th>Time</th>\n",
       "      <th>V1</th>\n",
       "      <th>V2</th>\n",
       "      <th>V3</th>\n",
       "      <th>V4</th>\n",
       "      <th>V5</th>\n",
       "      <th>V6</th>\n",
       "      <th>V7</th>\n",
       "      <th>V8</th>\n",
       "      <th>V9</th>\n",
       "      <th>V10</th>\n",
       "      <th>V11</th>\n",
       "      <th>V12</th>\n",
       "      <th>V13</th>\n",
       "      <th>V14</th>\n",
       "      <th>V15</th>\n",
       "      <th>V16</th>\n",
       "      <th>V17</th>\n",
       "      <th>V18</th>\n",
       "      <th>V19</th>\n",
       "      <th>V20</th>\n",
       "      <th>V21</th>\n",
       "      <th>V22</th>\n",
       "      <th>V23</th>\n",
       "      <th>V24</th>\n",
       "      <th>V25</th>\n",
       "      <th>V26</th>\n",
       "      <th>V27</th>\n",
       "      <th>V28</th>\n",
       "      <th>Amount</th>\n",
       "      <th>Class</th>\n",
       "    </tr>\n",
       "  </thead>\n",
       "  <tbody>\n",
       "    <tr>\n",
       "      <th>0</th>\n",
       "      <td>0.00</td>\n",
       "      <td>-1.36</td>\n",
       "      <td>-0.07</td>\n",
       "      <td>2.54</td>\n",
       "      <td>1.38</td>\n",
       "      <td>-0.34</td>\n",
       "      <td>0.46</td>\n",
       "      <td>0.24</td>\n",
       "      <td>0.10</td>\n",
       "      <td>0.36</td>\n",
       "      <td>0.09</td>\n",
       "      <td>-0.55</td>\n",
       "      <td>-0.62</td>\n",
       "      <td>-0.99</td>\n",
       "      <td>-0.31</td>\n",
       "      <td>1.47</td>\n",
       "      <td>-0.47</td>\n",
       "      <td>0.21</td>\n",
       "      <td>0.03</td>\n",
       "      <td>0.40</td>\n",
       "      <td>0.25</td>\n",
       "      <td>-0.02</td>\n",
       "      <td>0.28</td>\n",
       "      <td>-0.11</td>\n",
       "      <td>0.07</td>\n",
       "      <td>0.13</td>\n",
       "      <td>-0.19</td>\n",
       "      <td>0.13</td>\n",
       "      <td>-0.02</td>\n",
       "      <td>149.62</td>\n",
       "      <td>0</td>\n",
       "    </tr>\n",
       "    <tr>\n",
       "      <th>1</th>\n",
       "      <td>0.00</td>\n",
       "      <td>1.19</td>\n",
       "      <td>0.27</td>\n",
       "      <td>0.17</td>\n",
       "      <td>0.45</td>\n",
       "      <td>0.06</td>\n",
       "      <td>-0.08</td>\n",
       "      <td>-0.08</td>\n",
       "      <td>0.09</td>\n",
       "      <td>-0.26</td>\n",
       "      <td>-0.17</td>\n",
       "      <td>1.61</td>\n",
       "      <td>1.07</td>\n",
       "      <td>0.49</td>\n",
       "      <td>-0.14</td>\n",
       "      <td>0.64</td>\n",
       "      <td>0.46</td>\n",
       "      <td>-0.11</td>\n",
       "      <td>-0.18</td>\n",
       "      <td>-0.15</td>\n",
       "      <td>-0.07</td>\n",
       "      <td>-0.23</td>\n",
       "      <td>-0.64</td>\n",
       "      <td>0.10</td>\n",
       "      <td>-0.34</td>\n",
       "      <td>0.17</td>\n",
       "      <td>0.13</td>\n",
       "      <td>-0.01</td>\n",
       "      <td>0.01</td>\n",
       "      <td>2.69</td>\n",
       "      <td>0</td>\n",
       "    </tr>\n",
       "    <tr>\n",
       "      <th>2</th>\n",
       "      <td>1.00</td>\n",
       "      <td>-1.36</td>\n",
       "      <td>-1.34</td>\n",
       "      <td>1.77</td>\n",
       "      <td>0.38</td>\n",
       "      <td>-0.50</td>\n",
       "      <td>1.80</td>\n",
       "      <td>0.79</td>\n",
       "      <td>0.25</td>\n",
       "      <td>-1.51</td>\n",
       "      <td>0.21</td>\n",
       "      <td>0.62</td>\n",
       "      <td>0.07</td>\n",
       "      <td>0.72</td>\n",
       "      <td>-0.17</td>\n",
       "      <td>2.35</td>\n",
       "      <td>-2.89</td>\n",
       "      <td>1.11</td>\n",
       "      <td>-0.12</td>\n",
       "      <td>-2.26</td>\n",
       "      <td>0.52</td>\n",
       "      <td>0.25</td>\n",
       "      <td>0.77</td>\n",
       "      <td>0.91</td>\n",
       "      <td>-0.69</td>\n",
       "      <td>-0.33</td>\n",
       "      <td>-0.14</td>\n",
       "      <td>-0.06</td>\n",
       "      <td>-0.06</td>\n",
       "      <td>378.66</td>\n",
       "      <td>0</td>\n",
       "    </tr>\n",
       "    <tr>\n",
       "      <th>3</th>\n",
       "      <td>1.00</td>\n",
       "      <td>-0.97</td>\n",
       "      <td>-0.19</td>\n",
       "      <td>1.79</td>\n",
       "      <td>-0.86</td>\n",
       "      <td>-0.01</td>\n",
       "      <td>1.25</td>\n",
       "      <td>0.24</td>\n",
       "      <td>0.38</td>\n",
       "      <td>-1.39</td>\n",
       "      <td>-0.05</td>\n",
       "      <td>-0.23</td>\n",
       "      <td>0.18</td>\n",
       "      <td>0.51</td>\n",
       "      <td>-0.29</td>\n",
       "      <td>-0.63</td>\n",
       "      <td>-1.06</td>\n",
       "      <td>-0.68</td>\n",
       "      <td>1.97</td>\n",
       "      <td>-1.23</td>\n",
       "      <td>-0.21</td>\n",
       "      <td>-0.11</td>\n",
       "      <td>0.01</td>\n",
       "      <td>-0.19</td>\n",
       "      <td>-1.18</td>\n",
       "      <td>0.65</td>\n",
       "      <td>-0.22</td>\n",
       "      <td>0.06</td>\n",
       "      <td>0.06</td>\n",
       "      <td>123.50</td>\n",
       "      <td>0</td>\n",
       "    </tr>\n",
       "    <tr>\n",
       "      <th>4</th>\n",
       "      <td>2.00</td>\n",
       "      <td>-1.16</td>\n",
       "      <td>0.88</td>\n",
       "      <td>1.55</td>\n",
       "      <td>0.40</td>\n",
       "      <td>-0.41</td>\n",
       "      <td>0.10</td>\n",
       "      <td>0.59</td>\n",
       "      <td>-0.27</td>\n",
       "      <td>0.82</td>\n",
       "      <td>0.75</td>\n",
       "      <td>-0.82</td>\n",
       "      <td>0.54</td>\n",
       "      <td>1.35</td>\n",
       "      <td>-1.12</td>\n",
       "      <td>0.18</td>\n",
       "      <td>-0.45</td>\n",
       "      <td>-0.24</td>\n",
       "      <td>-0.04</td>\n",
       "      <td>0.80</td>\n",
       "      <td>0.41</td>\n",
       "      <td>-0.01</td>\n",
       "      <td>0.80</td>\n",
       "      <td>-0.14</td>\n",
       "      <td>0.14</td>\n",
       "      <td>-0.21</td>\n",
       "      <td>0.50</td>\n",
       "      <td>0.22</td>\n",
       "      <td>0.22</td>\n",
       "      <td>69.99</td>\n",
       "      <td>0</td>\n",
       "    </tr>\n",
       "  </tbody>\n",
       "</table>\n",
       "</div>"
      ],
      "text/plain": [
       "   Time    V1    V2   V3    V4    V5    V6    V7    V8    V9   V10   V11  \\\n",
       "0  0.00 -1.36 -0.07 2.54  1.38 -0.34  0.46  0.24  0.10  0.36  0.09 -0.55   \n",
       "1  0.00  1.19  0.27 0.17  0.45  0.06 -0.08 -0.08  0.09 -0.26 -0.17  1.61   \n",
       "2  1.00 -1.36 -1.34 1.77  0.38 -0.50  1.80  0.79  0.25 -1.51  0.21  0.62   \n",
       "3  1.00 -0.97 -0.19 1.79 -0.86 -0.01  1.25  0.24  0.38 -1.39 -0.05 -0.23   \n",
       "4  2.00 -1.16  0.88 1.55  0.40 -0.41  0.10  0.59 -0.27  0.82  0.75 -0.82   \n",
       "\n",
       "    V12   V13   V14   V15   V16   V17   V18   V19   V20   V21   V22   V23  \\\n",
       "0 -0.62 -0.99 -0.31  1.47 -0.47  0.21  0.03  0.40  0.25 -0.02  0.28 -0.11   \n",
       "1  1.07  0.49 -0.14  0.64  0.46 -0.11 -0.18 -0.15 -0.07 -0.23 -0.64  0.10   \n",
       "2  0.07  0.72 -0.17  2.35 -2.89  1.11 -0.12 -2.26  0.52  0.25  0.77  0.91   \n",
       "3  0.18  0.51 -0.29 -0.63 -1.06 -0.68  1.97 -1.23 -0.21 -0.11  0.01 -0.19   \n",
       "4  0.54  1.35 -1.12  0.18 -0.45 -0.24 -0.04  0.80  0.41 -0.01  0.80 -0.14   \n",
       "\n",
       "    V24   V25   V26   V27   V28  Amount  Class  \n",
       "0  0.07  0.13 -0.19  0.13 -0.02  149.62      0  \n",
       "1 -0.34  0.17  0.13 -0.01  0.01    2.69      0  \n",
       "2 -0.69 -0.33 -0.14 -0.06 -0.06  378.66      0  \n",
       "3 -1.18  0.65 -0.22  0.06  0.06  123.50      0  \n",
       "4  0.14 -0.21  0.50  0.22  0.22   69.99      0  "
      ]
     },
     "execution_count": 2,
     "metadata": {},
     "output_type": "execute_result"
    }
   ],
   "source": [
    "creditcard = pd.read_csv('creditcard.csv')\n",
    "creditcard.head()"
   ]
  },
  {
   "cell_type": "code",
   "execution_count": 3,
   "id": "5eb676af",
   "metadata": {},
   "outputs": [
    {
     "data": {
      "text/plain": [
       "(284807, 31)"
      ]
     },
     "execution_count": 3,
     "metadata": {},
     "output_type": "execute_result"
    }
   ],
   "source": [
    "creditcard.shape"
   ]
  },
  {
   "cell_type": "code",
   "execution_count": 4,
   "id": "b3449289",
   "metadata": {},
   "outputs": [
    {
     "name": "stdout",
     "output_type": "stream",
     "text": [
      "<class 'pandas.core.frame.DataFrame'>\n",
      "RangeIndex: 284807 entries, 0 to 284806\n",
      "Data columns (total 31 columns):\n",
      " #   Column  Non-Null Count   Dtype  \n",
      "---  ------  --------------   -----  \n",
      " 0   Time    284807 non-null  float64\n",
      " 1   V1      284807 non-null  float64\n",
      " 2   V2      284807 non-null  float64\n",
      " 3   V3      284807 non-null  float64\n",
      " 4   V4      284807 non-null  float64\n",
      " 5   V5      284807 non-null  float64\n",
      " 6   V6      284807 non-null  float64\n",
      " 7   V7      284807 non-null  float64\n",
      " 8   V8      284807 non-null  float64\n",
      " 9   V9      284807 non-null  float64\n",
      " 10  V10     284807 non-null  float64\n",
      " 11  V11     284807 non-null  float64\n",
      " 12  V12     284807 non-null  float64\n",
      " 13  V13     284807 non-null  float64\n",
      " 14  V14     284807 non-null  float64\n",
      " 15  V15     284807 non-null  float64\n",
      " 16  V16     284807 non-null  float64\n",
      " 17  V17     284807 non-null  float64\n",
      " 18  V18     284807 non-null  float64\n",
      " 19  V19     284807 non-null  float64\n",
      " 20  V20     284807 non-null  float64\n",
      " 21  V21     284807 non-null  float64\n",
      " 22  V22     284807 non-null  float64\n",
      " 23  V23     284807 non-null  float64\n",
      " 24  V24     284807 non-null  float64\n",
      " 25  V25     284807 non-null  float64\n",
      " 26  V26     284807 non-null  float64\n",
      " 27  V27     284807 non-null  float64\n",
      " 28  V28     284807 non-null  float64\n",
      " 29  Amount  284807 non-null  float64\n",
      " 30  Class   284807 non-null  int64  \n",
      "dtypes: float64(30), int64(1)\n",
      "memory usage: 67.4 MB\n"
     ]
    }
   ],
   "source": [
    "creditcard.info()"
   ]
  },
  {
   "cell_type": "code",
   "execution_count": 5,
   "id": "a9a3865a",
   "metadata": {},
   "outputs": [
    {
     "data": {
      "text/plain": [
       "0   99.83\n",
       "1    0.17\n",
       "Name: Class, dtype: float64"
      ]
     },
     "execution_count": 5,
     "metadata": {},
     "output_type": "execute_result"
    }
   ],
   "source": [
    "creditcard['Class'].value_counts(normalize=True)*100"
   ]
  },
  {
   "cell_type": "markdown",
   "id": "448b8eb9",
   "metadata": {},
   "source": [
    "*Summary of Data*  \n",
    "- There are no null values in data set  \n",
    "\n",
    "\n",
    "- Class 0 is Legit transactions. Class 1 is Fraud transactions  \n",
    "\n",
    "\n",
    "- We have huge imbalance in our dataset with less than 1% fraud transactions.  \n",
    "  Note: If we use this dataframe as is for our prediction , our algorithm will probably overfit since it will assume that most   transactions are not fraud, and we might get a lot of errorsLater.So, we will deal with this imbalance later on.  \n",
    "\n",
    "\n",
    "- Data provided is already transformed using PCA. In order to use PCA, data needs to be scaled before, so we assume that all features except Amount and Time have already been scaled as well. "
   ]
  },
  {
   "cell_type": "markdown",
   "id": "0099620d",
   "metadata": {},
   "source": [
    "### Visualize Transaction Count by Hour\n",
    "Column 'Time' is the seconds elapsed from the first transaction in the dataset. For data exploration and visualization, let's convert this to 'hours' of a day."
   ]
  },
  {
   "cell_type": "code",
   "execution_count": 6,
   "id": "9c10e0b3",
   "metadata": {},
   "outputs": [
    {
     "data": {
      "text/html": [
       "<div>\n",
       "<style scoped>\n",
       "    .dataframe tbody tr th:only-of-type {\n",
       "        vertical-align: middle;\n",
       "    }\n",
       "\n",
       "    .dataframe tbody tr th {\n",
       "        vertical-align: top;\n",
       "    }\n",
       "\n",
       "    .dataframe thead th {\n",
       "        text-align: right;\n",
       "    }\n",
       "</style>\n",
       "<table border=\"1\" class=\"dataframe\">\n",
       "  <thead>\n",
       "    <tr style=\"text-align: right;\">\n",
       "      <th></th>\n",
       "      <th>Time</th>\n",
       "      <th>V1</th>\n",
       "      <th>V2</th>\n",
       "      <th>V3</th>\n",
       "      <th>V4</th>\n",
       "      <th>V5</th>\n",
       "      <th>V6</th>\n",
       "      <th>V7</th>\n",
       "      <th>V8</th>\n",
       "      <th>V9</th>\n",
       "      <th>V10</th>\n",
       "      <th>V11</th>\n",
       "      <th>V12</th>\n",
       "      <th>V13</th>\n",
       "      <th>V14</th>\n",
       "      <th>V15</th>\n",
       "      <th>V16</th>\n",
       "      <th>V17</th>\n",
       "      <th>V18</th>\n",
       "      <th>V19</th>\n",
       "      <th>V20</th>\n",
       "      <th>V21</th>\n",
       "      <th>V22</th>\n",
       "      <th>V23</th>\n",
       "      <th>V24</th>\n",
       "      <th>V25</th>\n",
       "      <th>V26</th>\n",
       "      <th>V27</th>\n",
       "      <th>V28</th>\n",
       "      <th>Amount</th>\n",
       "      <th>Class</th>\n",
       "      <th>hour</th>\n",
       "    </tr>\n",
       "  </thead>\n",
       "  <tbody>\n",
       "    <tr>\n",
       "      <th>0</th>\n",
       "      <td>0.00</td>\n",
       "      <td>-1.36</td>\n",
       "      <td>-0.07</td>\n",
       "      <td>2.54</td>\n",
       "      <td>1.38</td>\n",
       "      <td>-0.34</td>\n",
       "      <td>0.46</td>\n",
       "      <td>0.24</td>\n",
       "      <td>0.10</td>\n",
       "      <td>0.36</td>\n",
       "      <td>0.09</td>\n",
       "      <td>-0.55</td>\n",
       "      <td>-0.62</td>\n",
       "      <td>-0.99</td>\n",
       "      <td>-0.31</td>\n",
       "      <td>1.47</td>\n",
       "      <td>-0.47</td>\n",
       "      <td>0.21</td>\n",
       "      <td>0.03</td>\n",
       "      <td>0.40</td>\n",
       "      <td>0.25</td>\n",
       "      <td>-0.02</td>\n",
       "      <td>0.28</td>\n",
       "      <td>-0.11</td>\n",
       "      <td>0.07</td>\n",
       "      <td>0.13</td>\n",
       "      <td>-0.19</td>\n",
       "      <td>0.13</td>\n",
       "      <td>-0.02</td>\n",
       "      <td>149.62</td>\n",
       "      <td>0</td>\n",
       "      <td>0.00</td>\n",
       "    </tr>\n",
       "    <tr>\n",
       "      <th>1</th>\n",
       "      <td>0.00</td>\n",
       "      <td>1.19</td>\n",
       "      <td>0.27</td>\n",
       "      <td>0.17</td>\n",
       "      <td>0.45</td>\n",
       "      <td>0.06</td>\n",
       "      <td>-0.08</td>\n",
       "      <td>-0.08</td>\n",
       "      <td>0.09</td>\n",
       "      <td>-0.26</td>\n",
       "      <td>-0.17</td>\n",
       "      <td>1.61</td>\n",
       "      <td>1.07</td>\n",
       "      <td>0.49</td>\n",
       "      <td>-0.14</td>\n",
       "      <td>0.64</td>\n",
       "      <td>0.46</td>\n",
       "      <td>-0.11</td>\n",
       "      <td>-0.18</td>\n",
       "      <td>-0.15</td>\n",
       "      <td>-0.07</td>\n",
       "      <td>-0.23</td>\n",
       "      <td>-0.64</td>\n",
       "      <td>0.10</td>\n",
       "      <td>-0.34</td>\n",
       "      <td>0.17</td>\n",
       "      <td>0.13</td>\n",
       "      <td>-0.01</td>\n",
       "      <td>0.01</td>\n",
       "      <td>2.69</td>\n",
       "      <td>0</td>\n",
       "      <td>0.00</td>\n",
       "    </tr>\n",
       "    <tr>\n",
       "      <th>2</th>\n",
       "      <td>1.00</td>\n",
       "      <td>-1.36</td>\n",
       "      <td>-1.34</td>\n",
       "      <td>1.77</td>\n",
       "      <td>0.38</td>\n",
       "      <td>-0.50</td>\n",
       "      <td>1.80</td>\n",
       "      <td>0.79</td>\n",
       "      <td>0.25</td>\n",
       "      <td>-1.51</td>\n",
       "      <td>0.21</td>\n",
       "      <td>0.62</td>\n",
       "      <td>0.07</td>\n",
       "      <td>0.72</td>\n",
       "      <td>-0.17</td>\n",
       "      <td>2.35</td>\n",
       "      <td>-2.89</td>\n",
       "      <td>1.11</td>\n",
       "      <td>-0.12</td>\n",
       "      <td>-2.26</td>\n",
       "      <td>0.52</td>\n",
       "      <td>0.25</td>\n",
       "      <td>0.77</td>\n",
       "      <td>0.91</td>\n",
       "      <td>-0.69</td>\n",
       "      <td>-0.33</td>\n",
       "      <td>-0.14</td>\n",
       "      <td>-0.06</td>\n",
       "      <td>-0.06</td>\n",
       "      <td>378.66</td>\n",
       "      <td>0</td>\n",
       "      <td>1.00</td>\n",
       "    </tr>\n",
       "    <tr>\n",
       "      <th>3</th>\n",
       "      <td>1.00</td>\n",
       "      <td>-0.97</td>\n",
       "      <td>-0.19</td>\n",
       "      <td>1.79</td>\n",
       "      <td>-0.86</td>\n",
       "      <td>-0.01</td>\n",
       "      <td>1.25</td>\n",
       "      <td>0.24</td>\n",
       "      <td>0.38</td>\n",
       "      <td>-1.39</td>\n",
       "      <td>-0.05</td>\n",
       "      <td>-0.23</td>\n",
       "      <td>0.18</td>\n",
       "      <td>0.51</td>\n",
       "      <td>-0.29</td>\n",
       "      <td>-0.63</td>\n",
       "      <td>-1.06</td>\n",
       "      <td>-0.68</td>\n",
       "      <td>1.97</td>\n",
       "      <td>-1.23</td>\n",
       "      <td>-0.21</td>\n",
       "      <td>-0.11</td>\n",
       "      <td>0.01</td>\n",
       "      <td>-0.19</td>\n",
       "      <td>-1.18</td>\n",
       "      <td>0.65</td>\n",
       "      <td>-0.22</td>\n",
       "      <td>0.06</td>\n",
       "      <td>0.06</td>\n",
       "      <td>123.50</td>\n",
       "      <td>0</td>\n",
       "      <td>1.00</td>\n",
       "    </tr>\n",
       "    <tr>\n",
       "      <th>4</th>\n",
       "      <td>2.00</td>\n",
       "      <td>-1.16</td>\n",
       "      <td>0.88</td>\n",
       "      <td>1.55</td>\n",
       "      <td>0.40</td>\n",
       "      <td>-0.41</td>\n",
       "      <td>0.10</td>\n",
       "      <td>0.59</td>\n",
       "      <td>-0.27</td>\n",
       "      <td>0.82</td>\n",
       "      <td>0.75</td>\n",
       "      <td>-0.82</td>\n",
       "      <td>0.54</td>\n",
       "      <td>1.35</td>\n",
       "      <td>-1.12</td>\n",
       "      <td>0.18</td>\n",
       "      <td>-0.45</td>\n",
       "      <td>-0.24</td>\n",
       "      <td>-0.04</td>\n",
       "      <td>0.80</td>\n",
       "      <td>0.41</td>\n",
       "      <td>-0.01</td>\n",
       "      <td>0.80</td>\n",
       "      <td>-0.14</td>\n",
       "      <td>0.14</td>\n",
       "      <td>-0.21</td>\n",
       "      <td>0.50</td>\n",
       "      <td>0.22</td>\n",
       "      <td>0.22</td>\n",
       "      <td>69.99</td>\n",
       "      <td>0</td>\n",
       "      <td>1.00</td>\n",
       "    </tr>\n",
       "  </tbody>\n",
       "</table>\n",
       "</div>"
      ],
      "text/plain": [
       "   Time    V1    V2   V3    V4    V5    V6    V7    V8    V9   V10   V11  \\\n",
       "0  0.00 -1.36 -0.07 2.54  1.38 -0.34  0.46  0.24  0.10  0.36  0.09 -0.55   \n",
       "1  0.00  1.19  0.27 0.17  0.45  0.06 -0.08 -0.08  0.09 -0.26 -0.17  1.61   \n",
       "2  1.00 -1.36 -1.34 1.77  0.38 -0.50  1.80  0.79  0.25 -1.51  0.21  0.62   \n",
       "3  1.00 -0.97 -0.19 1.79 -0.86 -0.01  1.25  0.24  0.38 -1.39 -0.05 -0.23   \n",
       "4  2.00 -1.16  0.88 1.55  0.40 -0.41  0.10  0.59 -0.27  0.82  0.75 -0.82   \n",
       "\n",
       "    V12   V13   V14   V15   V16   V17   V18   V19   V20   V21   V22   V23  \\\n",
       "0 -0.62 -0.99 -0.31  1.47 -0.47  0.21  0.03  0.40  0.25 -0.02  0.28 -0.11   \n",
       "1  1.07  0.49 -0.14  0.64  0.46 -0.11 -0.18 -0.15 -0.07 -0.23 -0.64  0.10   \n",
       "2  0.07  0.72 -0.17  2.35 -2.89  1.11 -0.12 -2.26  0.52  0.25  0.77  0.91   \n",
       "3  0.18  0.51 -0.29 -0.63 -1.06 -0.68  1.97 -1.23 -0.21 -0.11  0.01 -0.19   \n",
       "4  0.54  1.35 -1.12  0.18 -0.45 -0.24 -0.04  0.80  0.41 -0.01  0.80 -0.14   \n",
       "\n",
       "    V24   V25   V26   V27   V28  Amount  Class  hour  \n",
       "0  0.07  0.13 -0.19  0.13 -0.02  149.62      0  0.00  \n",
       "1 -0.34  0.17  0.13 -0.01  0.01    2.69      0  0.00  \n",
       "2 -0.69 -0.33 -0.14 -0.06 -0.06  378.66      0  1.00  \n",
       "3 -1.18  0.65 -0.22  0.06  0.06  123.50      0  1.00  \n",
       "4  0.14 -0.21  0.50  0.22  0.22   69.99      0  1.00  "
      ]
     },
     "execution_count": 6,
     "metadata": {},
     "output_type": "execute_result"
    }
   ],
   "source": [
    "creditcard['hour'] = creditcard['Time'].apply(lambda x: np.ceil(float(x)/3600) % 24)\n",
    "creditcard.head()"
   ]
  },
  {
   "cell_type": "code",
   "execution_count": 7,
   "id": "680fc353",
   "metadata": {},
   "outputs": [
    {
     "data": {
      "text/html": [
       "<div>\n",
       "<style scoped>\n",
       "    .dataframe tbody tr th:only-of-type {\n",
       "        vertical-align: middle;\n",
       "    }\n",
       "\n",
       "    .dataframe tbody tr th {\n",
       "        vertical-align: top;\n",
       "    }\n",
       "\n",
       "    .dataframe thead th {\n",
       "        text-align: right;\n",
       "    }\n",
       "</style>\n",
       "<table border=\"1\" class=\"dataframe\">\n",
       "  <thead>\n",
       "    <tr style=\"text-align: right;\">\n",
       "      <th>Class</th>\n",
       "      <th>0</th>\n",
       "      <th>1</th>\n",
       "    </tr>\n",
       "    <tr>\n",
       "      <th>hour</th>\n",
       "      <th></th>\n",
       "      <th></th>\n",
       "    </tr>\n",
       "  </thead>\n",
       "  <tbody>\n",
       "    <tr>\n",
       "      <th>0.00</th>\n",
       "      <td>10919</td>\n",
       "      <td>21</td>\n",
       "    </tr>\n",
       "    <tr>\n",
       "      <th>1.00</th>\n",
       "      <td>7687</td>\n",
       "      <td>6</td>\n",
       "    </tr>\n",
       "    <tr>\n",
       "      <th>2.00</th>\n",
       "      <td>4212</td>\n",
       "      <td>10</td>\n",
       "    </tr>\n",
       "    <tr>\n",
       "      <th>3.00</th>\n",
       "      <td>3269</td>\n",
       "      <td>57</td>\n",
       "    </tr>\n",
       "    <tr>\n",
       "      <th>4.00</th>\n",
       "      <td>3476</td>\n",
       "      <td>17</td>\n",
       "    </tr>\n",
       "    <tr>\n",
       "      <th>5.00</th>\n",
       "      <td>2185</td>\n",
       "      <td>23</td>\n",
       "    </tr>\n",
       "    <tr>\n",
       "      <th>6.00</th>\n",
       "      <td>2979</td>\n",
       "      <td>11</td>\n",
       "    </tr>\n",
       "    <tr>\n",
       "      <th>7.00</th>\n",
       "      <td>4093</td>\n",
       "      <td>9</td>\n",
       "    </tr>\n",
       "    <tr>\n",
       "      <th>8.00</th>\n",
       "      <td>7219</td>\n",
       "      <td>23</td>\n",
       "    </tr>\n",
       "    <tr>\n",
       "      <th>9.00</th>\n",
       "      <td>10266</td>\n",
       "      <td>9</td>\n",
       "    </tr>\n",
       "    <tr>\n",
       "      <th>10.00</th>\n",
       "      <td>15824</td>\n",
       "      <td>16</td>\n",
       "    </tr>\n",
       "    <tr>\n",
       "      <th>11.00</th>\n",
       "      <td>16593</td>\n",
       "      <td>8</td>\n",
       "    </tr>\n",
       "    <tr>\n",
       "      <th>12.00</th>\n",
       "      <td>16804</td>\n",
       "      <td>53</td>\n",
       "    </tr>\n",
       "    <tr>\n",
       "      <th>13.00</th>\n",
       "      <td>15400</td>\n",
       "      <td>17</td>\n",
       "    </tr>\n",
       "    <tr>\n",
       "      <th>14.00</th>\n",
       "      <td>15350</td>\n",
       "      <td>17</td>\n",
       "    </tr>\n",
       "    <tr>\n",
       "      <th>15.00</th>\n",
       "      <td>16545</td>\n",
       "      <td>23</td>\n",
       "    </tr>\n",
       "    <tr>\n",
       "      <th>16.00</th>\n",
       "      <td>16434</td>\n",
       "      <td>26</td>\n",
       "    </tr>\n",
       "    <tr>\n",
       "      <th>17.00</th>\n",
       "      <td>16435</td>\n",
       "      <td>22</td>\n",
       "    </tr>\n",
       "    <tr>\n",
       "      <th>18.00</th>\n",
       "      <td>16135</td>\n",
       "      <td>29</td>\n",
       "    </tr>\n",
       "    <tr>\n",
       "      <th>19.00</th>\n",
       "      <td>17003</td>\n",
       "      <td>33</td>\n",
       "    </tr>\n",
       "    <tr>\n",
       "      <th>20.00</th>\n",
       "      <td>15632</td>\n",
       "      <td>19</td>\n",
       "    </tr>\n",
       "    <tr>\n",
       "      <th>21.00</th>\n",
       "      <td>16739</td>\n",
       "      <td>18</td>\n",
       "    </tr>\n",
       "    <tr>\n",
       "      <th>22.00</th>\n",
       "      <td>17692</td>\n",
       "      <td>16</td>\n",
       "    </tr>\n",
       "    <tr>\n",
       "      <th>23.00</th>\n",
       "      <td>15424</td>\n",
       "      <td>9</td>\n",
       "    </tr>\n",
       "  </tbody>\n",
       "</table>\n",
       "</div>"
      ],
      "text/plain": [
       "Class      0   1\n",
       "hour            \n",
       "0.00   10919  21\n",
       "1.00    7687   6\n",
       "2.00    4212  10\n",
       "3.00    3269  57\n",
       "4.00    3476  17\n",
       "5.00    2185  23\n",
       "6.00    2979  11\n",
       "7.00    4093   9\n",
       "8.00    7219  23\n",
       "9.00   10266   9\n",
       "10.00  15824  16\n",
       "11.00  16593   8\n",
       "12.00  16804  53\n",
       "13.00  15400  17\n",
       "14.00  15350  17\n",
       "15.00  16545  23\n",
       "16.00  16434  26\n",
       "17.00  16435  22\n",
       "18.00  16135  29\n",
       "19.00  17003  33\n",
       "20.00  15632  19\n",
       "21.00  16739  18\n",
       "22.00  17692  16\n",
       "23.00  15424   9"
      ]
     },
     "execution_count": 7,
     "metadata": {},
     "output_type": "execute_result"
    }
   ],
   "source": [
    "count_pivot = creditcard.pivot_table(index='hour', columns = 'Class', values = 'Amount', aggfunc = 'count')\n",
    "count_pivot"
   ]
  },
  {
   "cell_type": "code",
   "execution_count": 8,
   "id": "14f990a1",
   "metadata": {},
   "outputs": [
    {
     "data": {
      "image/png": "[encoded data removed]",
      "text/plain": [
       "<Figure size 1440x576 with 1 Axes>"
      ]
     },
     "metadata": {},
     "output_type": "display_data"
    }
   ],
   "source": [
    "plt.figure(figsize=(20,8))\n",
    "\n",
    "sns.distplot(creditcard['hour'][creditcard['Class'] == 0], kde=False, norm_hist=True, color='g', hist_kws={'alpha':.5}, label='Legit')\n",
    "sns.distplot(creditcard['hour'][creditcard['Class'] == 1], kde=False, norm_hist=True, color='r', hist_kws={'alpha':.5}, label='Fraud')\n",
    "plt.xticks(range(0,25))\n",
    "plt.legend()\n",
    "plt.show();"
   ]
  },
  {
   "cell_type": "markdown",
   "id": "c023ec51",
   "metadata": {},
   "source": [
    "*Observations*\n",
    "- Very few overall transactions overnight (1AM - 7AM). Starts increasing after that and remains consistent throughout the day. \n",
    "- Fraud transactions at its peak between (12AM - 3AM), and also during morning hours(10AM - 1PM) and evening hours(5PM - 8PM)"
   ]
  },
  {
   "cell_type": "markdown",
   "id": "e7a6cbad",
   "metadata": {},
   "source": [
    "### Visualize Transaction Amount by Hour"
   ]
  },
  {
   "cell_type": "code",
   "execution_count": 9,
   "id": "5a35900f",
   "metadata": {},
   "outputs": [
    {
     "data": {
      "text/html": [
       "<div>\n",
       "<style scoped>\n",
       "    .dataframe tbody tr th:only-of-type {\n",
       "        vertical-align: middle;\n",
       "    }\n",
       "\n",
       "    .dataframe tbody tr th {\n",
       "        vertical-align: top;\n",
       "    }\n",
       "\n",
       "    .dataframe thead th {\n",
       "        text-align: right;\n",
       "    }\n",
       "</style>\n",
       "<table border=\"1\" class=\"dataframe\">\n",
       "  <thead>\n",
       "    <tr style=\"text-align: right;\">\n",
       "      <th></th>\n",
       "      <th>hour</th>\n",
       "      <th>Class</th>\n",
       "      <th>Amount</th>\n",
       "    </tr>\n",
       "  </thead>\n",
       "  <tbody>\n",
       "    <tr>\n",
       "      <th>0</th>\n",
       "      <td>0.00</td>\n",
       "      <td>0</td>\n",
       "      <td>68.76</td>\n",
       "    </tr>\n",
       "    <tr>\n",
       "      <th>1</th>\n",
       "      <td>0.00</td>\n",
       "      <td>1</td>\n",
       "      <td>149.67</td>\n",
       "    </tr>\n",
       "    <tr>\n",
       "      <th>2</th>\n",
       "      <td>1.00</td>\n",
       "      <td>0</td>\n",
       "      <td>60.14</td>\n",
       "    </tr>\n",
       "    <tr>\n",
       "      <th>3</th>\n",
       "      <td>1.00</td>\n",
       "      <td>1</td>\n",
       "      <td>303.34</td>\n",
       "    </tr>\n",
       "    <tr>\n",
       "      <th>4</th>\n",
       "      <td>2.00</td>\n",
       "      <td>0</td>\n",
       "      <td>62.48</td>\n",
       "    </tr>\n",
       "  </tbody>\n",
       "</table>\n",
       "</div>"
      ],
      "text/plain": [
       "   hour  Class  Amount\n",
       "0  0.00      0   68.76\n",
       "1  0.00      1  149.67\n",
       "2  1.00      0   60.14\n",
       "3  1.00      1  303.34\n",
       "4  2.00      0   62.48"
      ]
     },
     "execution_count": 9,
     "metadata": {},
     "output_type": "execute_result"
    }
   ],
   "source": [
    "amnt_pivot = creditcard.groupby(['hour','Class'])['Amount'].mean().to_frame().reset_index()\n",
    "amnt_pivot.head()"
   ]
  },
  {
   "cell_type": "code",
   "execution_count": 10,
   "id": "fa97e720",
   "metadata": {},
   "outputs": [
    {
     "data": {
      "text/plain": [
       "<AxesSubplot:xlabel='hour', ylabel='Amount'>"
      ]
     },
     "execution_count": 10,
     "metadata": {},
     "output_type": "execute_result"
    },
    {
     "data": {
      "image/png": "[encoded data removed]",
      "text/plain": [
       "<Figure size 1152x432 with 1 Axes>"
      ]
     },
     "metadata": {},
     "output_type": "display_data"
    }
   ],
   "source": [
    "plt.figure(figsize=(16,6))\n",
    "sns.barplot(data=amnt_pivot, x='hour', y='Amount', hue='Class')"
   ]
  },
  {
   "cell_type": "markdown",
   "id": "cd6c0d30",
   "metadata": {},
   "source": [
    "*Observations*  \n",
    "- Fraud transaction amount is highest during hours - 1 AM and 11 AM\n",
    "- At 1 AM, even though transaction count is among lowest, it seems most of that amount transacted is fraud.\n",
    "- At 11 AM, transaction count itself has increased, but still fraud amount is disproportionatily high."
   ]
  },
  {
   "cell_type": "markdown",
   "id": "52b5b9ba",
   "metadata": {},
   "source": [
    "### Feature Correlation"
   ]
  },
  {
   "cell_type": "code",
   "execution_count": 11,
   "id": "8eb511a9",
   "metadata": {},
   "outputs": [
    {
     "data": {
      "text/plain": [
       "<AxesSubplot:>"
      ]
     },
     "execution_count": 11,
     "metadata": {},
     "output_type": "execute_result"
    },
    {
     "data": {
      "image/png": "[encoded data removed]",
      "text/plain": [
       "<Figure size 720x288 with 1 Axes>"
      ]
     },
     "metadata": {},
     "output_type": "display_data"
    }
   ],
   "source": [
    "creditcard.corr()['Class'].sort_values().plot.bar(figsize=(10,4))"
   ]
  },
  {
   "cell_type": "markdown",
   "id": "f1faf5b7",
   "metadata": {},
   "source": [
    "Due to a highly imbalanced dataset, we may not able to see the true correlations between the class and features.  \n",
    "\n",
    "Let's quickly create a small sampled and balanced dataframe below after feature scaling and check correlation again."
   ]
  },
  {
   "cell_type": "code",
   "execution_count": 36,
   "id": "fd8ecdbd",
   "metadata": {},
   "outputs": [
    {
     "data": {
      "text/plain": [
       "0    284315\n",
       "1       492\n",
       "Name: Class, dtype: int64"
      ]
     },
     "execution_count": 36,
     "metadata": {},
     "output_type": "execute_result"
    }
   ],
   "source": [
    "creditcard['Class'].value_counts()"
   ]
  },
  {
   "cell_type": "code",
   "execution_count": 38,
   "id": "8fb037d2",
   "metadata": {},
   "outputs": [
    {
     "data": {
      "text/html": [
       "<div>\n",
       "<style scoped>\n",
       "    .dataframe tbody tr th:only-of-type {\n",
       "        vertical-align: middle;\n",
       "    }\n",
       "\n",
       "    .dataframe tbody tr th {\n",
       "        vertical-align: top;\n",
       "    }\n",
       "\n",
       "    .dataframe thead th {\n",
       "        text-align: right;\n",
       "    }\n",
       "</style>\n",
       "<table border=\"1\" class=\"dataframe\">\n",
       "  <thead>\n",
       "    <tr style=\"text-align: right;\">\n",
       "      <th></th>\n",
       "      <th>Time</th>\n",
       "      <th>V1</th>\n",
       "      <th>V2</th>\n",
       "      <th>V3</th>\n",
       "      <th>V4</th>\n",
       "      <th>V5</th>\n",
       "      <th>V6</th>\n",
       "      <th>V7</th>\n",
       "      <th>V8</th>\n",
       "      <th>V9</th>\n",
       "      <th>V10</th>\n",
       "      <th>V11</th>\n",
       "      <th>V12</th>\n",
       "      <th>V13</th>\n",
       "      <th>V14</th>\n",
       "      <th>V15</th>\n",
       "      <th>V16</th>\n",
       "      <th>V17</th>\n",
       "      <th>V18</th>\n",
       "      <th>V19</th>\n",
       "      <th>V20</th>\n",
       "      <th>V21</th>\n",
       "      <th>V22</th>\n",
       "      <th>V23</th>\n",
       "      <th>V24</th>\n",
       "      <th>V25</th>\n",
       "      <th>V26</th>\n",
       "      <th>V27</th>\n",
       "      <th>V28</th>\n",
       "      <th>Amount</th>\n",
       "      <th>Class</th>\n",
       "      <th>hour</th>\n",
       "    </tr>\n",
       "  </thead>\n",
       "  <tbody>\n",
       "    <tr>\n",
       "      <th>150661</th>\n",
       "      <td>0.11</td>\n",
       "      <td>-6.19</td>\n",
       "      <td>7.10</td>\n",
       "      <td>-13.03</td>\n",
       "      <td>8.01</td>\n",
       "      <td>-7.89</td>\n",
       "      <td>-3.97</td>\n",
       "      <td>-12.23</td>\n",
       "      <td>4.97</td>\n",
       "      <td>-4.25</td>\n",
       "      <td>-12.97</td>\n",
       "      <td>8.69</td>\n",
       "      <td>-17.18</td>\n",
       "      <td>0.07</td>\n",
       "      <td>-14.12</td>\n",
       "      <td>0.96</td>\n",
       "      <td>-12.38</td>\n",
       "      <td>-18.72</td>\n",
       "      <td>-6.52</td>\n",
       "      <td>3.52</td>\n",
       "      <td>0.48</td>\n",
       "      <td>2.50</td>\n",
       "      <td>0.48</td>\n",
       "      <td>0.48</td>\n",
       "      <td>0.36</td>\n",
       "      <td>-0.29</td>\n",
       "      <td>-0.20</td>\n",
       "      <td>-0.20</td>\n",
       "      <td>0.40</td>\n",
       "      <td>0.32</td>\n",
       "      <td>1</td>\n",
       "      <td>3.00</td>\n",
       "    </tr>\n",
       "    <tr>\n",
       "      <th>73857</th>\n",
       "      <td>-0.35</td>\n",
       "      <td>-6.16</td>\n",
       "      <td>1.47</td>\n",
       "      <td>-6.85</td>\n",
       "      <td>5.17</td>\n",
       "      <td>-2.99</td>\n",
       "      <td>-1.80</td>\n",
       "      <td>-6.55</td>\n",
       "      <td>2.62</td>\n",
       "      <td>-3.61</td>\n",
       "      <td>-8.12</td>\n",
       "      <td>6.03</td>\n",
       "      <td>-9.23</td>\n",
       "      <td>-1.55</td>\n",
       "      <td>-10.31</td>\n",
       "      <td>0.31</td>\n",
       "      <td>-7.79</td>\n",
       "      <td>-12.82</td>\n",
       "      <td>-4.37</td>\n",
       "      <td>2.64</td>\n",
       "      <td>-0.29</td>\n",
       "      <td>1.06</td>\n",
       "      <td>0.13</td>\n",
       "      <td>0.59</td>\n",
       "      <td>-0.57</td>\n",
       "      <td>0.58</td>\n",
       "      <td>-0.04</td>\n",
       "      <td>0.95</td>\n",
       "      <td>0.16</td>\n",
       "      <td>-0.30</td>\n",
       "      <td>1</td>\n",
       "      <td>16.00</td>\n",
       "    </tr>\n",
       "    <tr>\n",
       "      <th>161096</th>\n",
       "      <td>0.34</td>\n",
       "      <td>-1.38</td>\n",
       "      <td>1.18</td>\n",
       "      <td>-1.69</td>\n",
       "      <td>-0.47</td>\n",
       "      <td>0.34</td>\n",
       "      <td>-0.61</td>\n",
       "      <td>-0.19</td>\n",
       "      <td>1.04</td>\n",
       "      <td>-0.72</td>\n",
       "      <td>-0.76</td>\n",
       "      <td>-0.52</td>\n",
       "      <td>0.98</td>\n",
       "      <td>0.67</td>\n",
       "      <td>1.42</td>\n",
       "      <td>-0.28</td>\n",
       "      <td>0.41</td>\n",
       "      <td>-0.62</td>\n",
       "      <td>1.05</td>\n",
       "      <td>0.74</td>\n",
       "      <td>-0.47</td>\n",
       "      <td>0.56</td>\n",
       "      <td>1.25</td>\n",
       "      <td>-0.17</td>\n",
       "      <td>-0.97</td>\n",
       "      <td>-0.70</td>\n",
       "      <td>-0.22</td>\n",
       "      <td>-0.31</td>\n",
       "      <td>-0.08</td>\n",
       "      <td>-0.29</td>\n",
       "      <td>0</td>\n",
       "      <td>8.00</td>\n",
       "    </tr>\n",
       "    <tr>\n",
       "      <th>234574</th>\n",
       "      <td>0.74</td>\n",
       "      <td>-1.05</td>\n",
       "      <td>4.36</td>\n",
       "      <td>-6.02</td>\n",
       "      <td>5.30</td>\n",
       "      <td>1.48</td>\n",
       "      <td>-2.19</td>\n",
       "      <td>-1.53</td>\n",
       "      <td>0.63</td>\n",
       "      <td>-4.04</td>\n",
       "      <td>-6.29</td>\n",
       "      <td>3.54</td>\n",
       "      <td>-7.96</td>\n",
       "      <td>-1.67</td>\n",
       "      <td>-12.46</td>\n",
       "      <td>-0.21</td>\n",
       "      <td>-1.42</td>\n",
       "      <td>-3.24</td>\n",
       "      <td>0.06</td>\n",
       "      <td>-1.80</td>\n",
       "      <td>0.53</td>\n",
       "      <td>0.40</td>\n",
       "      <td>-0.95</td>\n",
       "      <td>-0.38</td>\n",
       "      <td>-0.22</td>\n",
       "      <td>0.26</td>\n",
       "      <td>0.05</td>\n",
       "      <td>0.85</td>\n",
       "      <td>0.53</td>\n",
       "      <td>-0.31</td>\n",
       "      <td>1</td>\n",
       "      <td>18.00</td>\n",
       "    </tr>\n",
       "    <tr>\n",
       "      <th>154676</th>\n",
       "      <td>0.21</td>\n",
       "      <td>-1.46</td>\n",
       "      <td>3.74</td>\n",
       "      <td>-7.40</td>\n",
       "      <td>7.44</td>\n",
       "      <td>-1.55</td>\n",
       "      <td>-1.66</td>\n",
       "      <td>-5.76</td>\n",
       "      <td>1.62</td>\n",
       "      <td>-2.19</td>\n",
       "      <td>-6.81</td>\n",
       "      <td>6.83</td>\n",
       "      <td>-10.40</td>\n",
       "      <td>1.84</td>\n",
       "      <td>-11.87</td>\n",
       "      <td>-3.64</td>\n",
       "      <td>-6.04</td>\n",
       "      <td>-9.75</td>\n",
       "      <td>-3.12</td>\n",
       "      <td>0.07</td>\n",
       "      <td>0.53</td>\n",
       "      <td>0.96</td>\n",
       "      <td>0.15</td>\n",
       "      <td>-0.04</td>\n",
       "      <td>-0.54</td>\n",
       "      <td>-0.76</td>\n",
       "      <td>-0.01</td>\n",
       "      <td>0.32</td>\n",
       "      <td>-0.32</td>\n",
       "      <td>-0.28</td>\n",
       "      <td>1</td>\n",
       "      <td>5.00</td>\n",
       "    </tr>\n",
       "  </tbody>\n",
       "</table>\n",
       "</div>"
      ],
      "text/plain": [
       "        Time    V1   V2     V3    V4    V5    V6     V7   V8    V9    V10  \\\n",
       "150661  0.11 -6.19 7.10 -13.03  8.01 -7.89 -3.97 -12.23 4.97 -4.25 -12.97   \n",
       "73857  -0.35 -6.16 1.47  -6.85  5.17 -2.99 -1.80  -6.55 2.62 -3.61  -8.12   \n",
       "161096  0.34 -1.38 1.18  -1.69 -0.47  0.34 -0.61  -0.19 1.04 -0.72  -0.76   \n",
       "234574  0.74 -1.05 4.36  -6.02  5.30  1.48 -2.19  -1.53 0.63 -4.04  -6.29   \n",
       "154676  0.21 -1.46 3.74  -7.40  7.44 -1.55 -1.66  -5.76 1.62 -2.19  -6.81   \n",
       "\n",
       "         V11    V12   V13    V14   V15    V16    V17   V18   V19   V20  V21  \\\n",
       "150661  8.69 -17.18  0.07 -14.12  0.96 -12.38 -18.72 -6.52  3.52  0.48 2.50   \n",
       "73857   6.03  -9.23 -1.55 -10.31  0.31  -7.79 -12.82 -4.37  2.64 -0.29 1.06   \n",
       "161096 -0.52   0.98  0.67   1.42 -0.28   0.41  -0.62  1.05  0.74 -0.47 0.56   \n",
       "234574  3.54  -7.96 -1.67 -12.46 -0.21  -1.42  -3.24  0.06 -1.80  0.53 0.40   \n",
       "154676  6.83 -10.40  1.84 -11.87 -3.64  -6.04  -9.75 -3.12  0.07  0.53 0.96   \n",
       "\n",
       "         V22   V23   V24   V25   V26   V27   V28  Amount  Class  hour  \n",
       "150661  0.48  0.48  0.36 -0.29 -0.20 -0.20  0.40    0.32      1  3.00  \n",
       "73857   0.13  0.59 -0.57  0.58 -0.04  0.95  0.16   -0.30      1 16.00  \n",
       "161096  1.25 -0.17 -0.97 -0.70 -0.22 -0.31 -0.08   -0.29      0  8.00  \n",
       "234574 -0.95 -0.38 -0.22  0.26  0.05  0.85  0.53   -0.31      1 18.00  \n",
       "154676  0.15 -0.04 -0.54 -0.76 -0.01  0.32 -0.32   -0.28      1  5.00  "
      ]
     },
     "execution_count": 38,
     "metadata": {},
     "output_type": "execute_result"
    }
   ],
   "source": [
    "card_sample = creditcard.sample(frac=1)\n",
    "\n",
    "fraud_df = df.loc[df['Class'] == 1]\n",
    "non_fraud_df = df.loc[df['Class'] == 0][:492]\n",
    "\n",
    "card_sample = pd.concat([fraud_df, non_fraud_df])\n",
    "\n",
    "card_sample = df_sample.sample(frac=1, random_state=42)\n",
    "\n",
    "card_sample.head()"
   ]
  },
  {
   "cell_type": "code",
   "execution_count": 39,
   "id": "4f5cca95",
   "metadata": {},
   "outputs": [
    {
     "data": {
      "text/plain": [
       "1    492\n",
       "0    492\n",
       "Name: Class, dtype: int64"
      ]
     },
     "execution_count": 39,
     "metadata": {},
     "output_type": "execute_result"
    }
   ],
   "source": [
    "card_sample['Class'].value_counts()"
   ]
  },
  {
   "cell_type": "code",
   "execution_count": 40,
   "id": "41c5e2ca",
   "metadata": {},
   "outputs": [
    {
     "data": {
      "text/plain": [
       "<AxesSubplot:>"
      ]
     },
     "execution_count": 40,
     "metadata": {},
     "output_type": "execute_result"
    },
    {
     "data": {
      "image/png": "[encoded data removed]",
      "text/plain": [
       "<Figure size 720x288 with 1 Axes>"
      ]
     },
     "metadata": {},
     "output_type": "display_data"
    }
   ],
   "source": [
    "card_sample.corr()['Class'].sort_values().plot.bar(figsize=(10,4))"
   ]
  },
  {
   "cell_type": "markdown",
   "id": "3e7dc9b5",
   "metadata": {},
   "source": [
    "*Observations*  \n",
    "- Now we clearly see the correlations\n",
    "- V14, V12, V10, V16, V3, V17 and V9 are negatively correlated, with correlation above 50%\n",
    "- V2, V11 and V4 are positively correlated, with correlation above 50%"
   ]
  },
  {
   "cell_type": "markdown",
   "id": "27a86ec2",
   "metadata": {},
   "source": [
    "## Data Preprocessing"
   ]
  },
  {
   "cell_type": "markdown",
   "id": "72598706",
   "metadata": {},
   "source": [
    "### Feature Scaling\n",
    "We will now scale Time and Amount columns. Ideally, scaling methods must be fit only on training set and then both training and test sets should be transformed. This is to avoid data leakage. But our complete dataset was already scaled and transformed using PCA, so to have these 2 columns scaled in similar fashion, we will scale them before split only."
   ]
  },
  {
   "cell_type": "code",
   "execution_count": 19,
   "id": "de462df0",
   "metadata": {},
   "outputs": [],
   "source": [
    "from sklearn.preprocessing import RobustScaler  # Robust Scaler is less prone to outliers"
   ]
  },
  {
   "cell_type": "code",
   "execution_count": 23,
   "id": "baadb8a2",
   "metadata": {},
   "outputs": [],
   "source": [
    "# Create a copy of original data as backup\n",
    "creditcard_copy = creditcard.copy()\n",
    "\n",
    "# Change original data\n",
    "creditcard['Amount'] = RobustScaler().fit_transform(creditcard['Amount'].values.reshape(-1,1))\n",
    "creditcard['Time'] = RobustScaler().fit_transform(creditcard['Time'].values.reshape(-1,1))"
   ]
  },
  {
   "cell_type": "markdown",
   "id": "0107f917",
   "metadata": {},
   "source": [
    "### Train-Test Split"
   ]
  },
  {
   "cell_type": "code",
   "execution_count": 25,
   "id": "6974146f",
   "metadata": {},
   "outputs": [],
   "source": [
    "from sklearn.model_selection import train_test_split"
   ]
  },
  {
   "cell_type": "code",
   "execution_count": 102,
   "id": "bad09cf7",
   "metadata": {},
   "outputs": [],
   "source": [
    "X = creditcard.drop('Class', axis=1)\n",
    "y = creditcard['Class']"
   ]
  },
  {
   "cell_type": "code",
   "execution_count": 103,
   "id": "1d86c6eb",
   "metadata": {},
   "outputs": [],
   "source": [
    "X_train,X_test,y_train,y_test = train_test_split(X, y, test_size=0.25, stratify=y, random_state=3)"
   ]
  },
  {
   "cell_type": "code",
   "execution_count": 108,
   "id": "27e3e96f",
   "metadata": {},
   "outputs": [
    {
     "data": {
      "text/plain": [
       "0    213236\n",
       "1       369\n",
       "Name: Class, dtype: int64"
      ]
     },
     "execution_count": 108,
     "metadata": {},
     "output_type": "execute_result"
    }
   ],
   "source": [
    "y_train.value_counts()"
   ]
  },
  {
   "cell_type": "code",
   "execution_count": 109,
   "id": "3a0a7b12",
   "metadata": {},
   "outputs": [
    {
     "data": {
      "text/plain": [
       "0    71079\n",
       "1      123\n",
       "Name: Class, dtype: int64"
      ]
     },
     "execution_count": 109,
     "metadata": {},
     "output_type": "execute_result"
    }
   ],
   "source": [
    "y_test.value_counts()"
   ]
  },
  {
   "cell_type": "code",
   "execution_count": 41,
   "id": "a6324fa3",
   "metadata": {},
   "outputs": [],
   "source": [
    "X_sampled = card_sample.drop('Class', axis=1)\n",
    "y_sampled = card_sample['Class']"
   ]
  },
  {
   "cell_type": "code",
   "execution_count": 43,
   "id": "2b245a67",
   "metadata": {},
   "outputs": [],
   "source": [
    "X_train_sampled, X_test_sampled, y_train_sampled, y_test_sampled = train_test_split(X_sampled, y_sampled, test_size=0.25, stratify=y_sampled, random_state=3)"
   ]
  },
  {
   "cell_type": "code",
   "execution_count": 44,
   "id": "78219a7b",
   "metadata": {},
   "outputs": [
    {
     "data": {
      "text/plain": [
       "1    369\n",
       "0    369\n",
       "Name: Class, dtype: int64"
      ]
     },
     "execution_count": 44,
     "metadata": {},
     "output_type": "execute_result"
    }
   ],
   "source": [
    "y_train_sampled.value_counts()"
   ]
  },
  {
   "cell_type": "code",
   "execution_count": 45,
   "id": "d08df972",
   "metadata": {},
   "outputs": [
    {
     "data": {
      "text/plain": [
       "1    123\n",
       "0    123\n",
       "Name: Class, dtype: int64"
      ]
     },
     "execution_count": 45,
     "metadata": {},
     "output_type": "execute_result"
    }
   ],
   "source": [
    "y_test_sampled.value_counts()"
   ]
  },
  {
   "cell_type": "markdown",
   "id": "45da7b35",
   "metadata": {},
   "source": [
    "## Testing Classifiers for Fraud Detection\n",
    "\n",
    "First, we will use base version of Logistic Regression to test \n",
    "- Original dataset with imbalanced classes\n",
    "- Sampled dataset with balanced classes\n",
    "- Original dataset with balanced classes"
   ]
  },
  {
   "cell_type": "markdown",
   "id": "8d764752",
   "metadata": {},
   "source": [
    "### Testing on original dataset with imbalanced classes"
   ]
  },
  {
   "cell_type": "code",
   "execution_count": 48,
   "id": "f99fba9c",
   "metadata": {},
   "outputs": [],
   "source": [
    "from sklearn.linear_model import LogisticRegression\n",
    "from sklearn.ensemble import RandomForestClassifier\n",
    "from sklearn.svm import LinearSVC\n",
    "\n",
    "from sklearn.model_selection import RepeatedStratifiedKFold\n",
    "from sklearn.model_selection import cross_validate\n",
    "\n",
    "from sklearn.metrics import\\\n",
    "classification_report, confusion_matrix, ConfusionMatrixDisplay, roc_curve, precision_recall_curve,\\\n",
    "make_scorer, precision_score, recall_score, f1_score"
   ]
  },
  {
   "cell_type": "code",
   "execution_count": 49,
   "id": "db69c6b8",
   "metadata": {},
   "outputs": [],
   "source": [
    "# Define dictionary with performance metrics\n",
    "scoring = {'precision':make_scorer(precision_score),\n",
    "           'recall':make_scorer(recall_score), \n",
    "           'f1_score':make_scorer(f1_score)}"
   ]
  },
  {
   "cell_type": "code",
   "execution_count": null,
   "id": "34f81f4c",
   "metadata": {},
   "outputs": [],
   "source": [
    "log_model = LogisticRegression()\n",
    "folds = RepeatedStratifiedKFold(n_splits=5, n_repeats=3, random_state=1)\n",
    "\n",
    "log_scores = cross_validate(log_model, X_train, y_train, cv=folds, scoring=scoring)\n",
    "\n",
    "print('precision: ', log_scores['test_precision'].mean())\n",
    "print('recall: ', log_scores['test_recall'].mean())\n",
    "print('f1 score: ', log_scores['test_f1_score'].mean())"
   ]
  },
  {
   "cell_type": "code",
   "execution_count": 54,
   "id": "e5dfb51e",
   "metadata": {},
   "outputs": [
    {
     "name": "stdout",
     "output_type": "stream",
     "text": [
      "precision:  0.8617458087442602\n",
      "recall:  0.5881031716648155\n",
      "f1 score:  0.6983417552807141\n"
     ]
    }
   ],
   "source": []
  },
  {
   "cell_type": "markdown",
   "id": "2f943dce",
   "metadata": {},
   "source": [
    "Precision is good, but recall score is poor dragging down f1 score as well"
   ]
  },
  {
   "cell_type": "markdown",
   "id": "173835a2",
   "metadata": {},
   "source": [
    "### Testing on sampled dataset with balanced classes"
   ]
  },
  {
   "cell_type": "code",
   "execution_count": 55,
   "id": "261af232",
   "metadata": {},
   "outputs": [
    {
     "name": "stdout",
     "output_type": "stream",
     "text": [
      "precision:  0.969943730787989\n",
      "recall:  0.9160187584845119\n",
      "f1 score:  0.9418648487544031\n"
     ]
    }
   ],
   "source": [
    "log_sample_scores = cross_validate(log_model, X_train_sampled, y_train_sampled, cv=folds, scoring=scoring)\n",
    "\n",
    "print('precision: ', log_sample_scores['test_precision'].mean())\n",
    "print('recall: ', log_sample_scores['test_recall'].mean())\n",
    "print('f1 score: ', log_sample_scores['test_f1_score'].mean())"
   ]
  },
  {
   "cell_type": "markdown",
   "id": "89ef975d",
   "metadata": {},
   "source": [
    "All scores are excellent, but this score is on data sample which is less than 1% of our original data.  \n",
    "But we understand that balancing classses is important, and so next we will perform balancing on original data."
   ]
  },
  {
   "cell_type": "markdown",
   "id": "8db3266f",
   "metadata": {},
   "source": [
    "### Testing on original dataset with balanced classes"
   ]
  },
  {
   "cell_type": "markdown",
   "id": "f5e6f06f",
   "metadata": {},
   "source": [
    "***Handling imbalance using Class-Weights***"
   ]
  },
  {
   "cell_type": "code",
   "execution_count": 46,
   "id": "7263df6e",
   "metadata": {},
   "outputs": [
    {
     "name": "stdout",
     "output_type": "stream",
     "text": [
      "[0 1] [  0.50086524 289.43766938]\n"
     ]
    }
   ],
   "source": [
    "# Checking class weights to be assigned\n",
    "\n",
    "from sklearn.utils import class_weight\n",
    "class_weights = class_weight.compute_class_weight('balanced', np.unique(y_train), y_train)\n",
    "print(np.unique(y_train),class_weights)"
   ]
  },
  {
   "cell_type": "code",
   "execution_count": 79,
   "id": "0dd64fd0",
   "metadata": {},
   "outputs": [
    {
     "name": "stdout",
     "output_type": "stream",
     "text": [
      "              precision    recall  f1-score   support\n",
      "\n",
      "           0       1.00      0.97      0.99     71079\n",
      "           1       0.06      0.93      0.11       123\n",
      "\n",
      "    accuracy                           0.97     71202\n",
      "   macro avg       0.53      0.95      0.55     71202\n",
      "weighted avg       1.00      0.97      0.99     71202\n",
      "\n"
     ]
    }
   ],
   "source": [
    "# Prediction using above class weights\n",
    "\n",
    "logr = LogisticRegression(class_weight={0:0.5,1:290})\n",
    "\n",
    "logr.fit(X_train, y_train)\n",
    "y_pred = logr.predict(X_test)\n",
    "    \n",
    "print(classification_report(y_test, y_pred))"
   ]
  },
  {
   "cell_type": "markdown",
   "id": "d29b0ea0",
   "metadata": {},
   "source": [
    "*Observations*  \n",
    "- Recall of Fraud Detection is above 90% now, means model has correctly predicted actual Fraud cases as Fraud.\n",
    "- But Precision of Fraud Detection is extremely poor, means that model actual ended up predicting a lot of Frauds and most of these did not turn out be actual fraud.  \n",
    "- We cannot always rely of these calculated weights, as these weights would only result in best possible overall accuracy.  \n",
    "- There is always a trade-off between precision and recall, which we will need to check manually.  \n",
    "\n",
    "So now, let's try different class weights and see which ones are able to give us a good score on both precision and recall."
   ]
  },
  {
   "cell_type": "code",
   "execution_count": 110,
   "id": "63aab647",
   "metadata": {},
   "outputs": [
    {
     "name": "stdout",
     "output_type": "stream",
     "text": [
      "Weight 10 for Fraud Class\n",
      "              precision    recall  f1-score   support\n",
      "\n",
      "           0       1.00      1.00      1.00     71079\n",
      "           1       0.77      0.84      0.80       123\n",
      "\n",
      "    accuracy                           1.00     71202\n",
      "   macro avg       0.89      0.92      0.90     71202\n",
      "weighted avg       1.00      1.00      1.00     71202\n",
      "\n",
      "Weight 20 for Fraud Class\n",
      "              precision    recall  f1-score   support\n",
      "\n",
      "           0       1.00      1.00      1.00     71079\n",
      "           1       0.66      0.85      0.74       123\n",
      "\n",
      "    accuracy                           1.00     71202\n",
      "   macro avg       0.83      0.93      0.87     71202\n",
      "weighted avg       1.00      1.00      1.00     71202\n",
      "\n",
      "Weight 50 for Fraud Class\n",
      "              precision    recall  f1-score   support\n",
      "\n",
      "           0       1.00      1.00      1.00     71079\n",
      "           1       0.47      0.89      0.61       123\n",
      "\n",
      "    accuracy                           1.00     71202\n",
      "   macro avg       0.73      0.94      0.81     71202\n",
      "weighted avg       1.00      1.00      1.00     71202\n",
      "\n",
      "Weight 100 for Fraud Class\n",
      "              precision    recall  f1-score   support\n",
      "\n",
      "           0       1.00      1.00      1.00     71079\n",
      "           1       0.25      0.91      0.39       123\n",
      "\n",
      "    accuracy                           1.00     71202\n",
      "   macro avg       0.62      0.95      0.69     71202\n",
      "weighted avg       1.00      1.00      1.00     71202\n",
      "\n",
      "Weight 150 for Fraud Class\n",
      "              precision    recall  f1-score   support\n",
      "\n",
      "           0       1.00      0.99      1.00     71079\n",
      "           1       0.19      0.91      0.32       123\n",
      "\n",
      "    accuracy                           0.99     71202\n",
      "   macro avg       0.60      0.95      0.66     71202\n",
      "weighted avg       1.00      0.99      1.00     71202\n",
      "\n",
      "Weight 200 for Fraud Class\n",
      "              precision    recall  f1-score   support\n",
      "\n",
      "           0       1.00      0.99      1.00     71079\n",
      "           1       0.16      0.91      0.27       123\n",
      "\n",
      "    accuracy                           0.99     71202\n",
      "   macro avg       0.58      0.95      0.63     71202\n",
      "weighted avg       1.00      0.99      0.99     71202\n",
      "\n",
      "Weight 250 for Fraud Class\n",
      "              precision    recall  f1-score   support\n",
      "\n",
      "           0       1.00      0.99      0.99     71079\n",
      "           1       0.13      0.91      0.23       123\n",
      "\n",
      "    accuracy                           0.99     71202\n",
      "   macro avg       0.57      0.95      0.61     71202\n",
      "weighted avg       1.00      0.99      0.99     71202\n",
      "\n",
      "Weight 300 for Fraud Class\n",
      "              precision    recall  f1-score   support\n",
      "\n",
      "           0       1.00      0.99      0.99     71079\n",
      "           1       0.12      0.92      0.21       123\n",
      "\n",
      "    accuracy                           0.99     71202\n",
      "   macro avg       0.56      0.95      0.60     71202\n",
      "weighted avg       1.00      0.99      0.99     71202\n",
      "\n"
     ]
    }
   ],
   "source": [
    "for w in [10,20,50,100,150,200,250,300]:\n",
    "    print('Weight {} for Fraud Class'.format(w))\n",
    "    \n",
    "    logr = LogisticRegression(class_weight={0:1,1:w})\n",
    "    logr.fit(X_train, y_train)\n",
    "    y_pred = logr.predict(X_test)\n",
    "    \n",
    "    print(classification_report(y_test, y_pred))"
   ]
  },
  {
   "cell_type": "markdown",
   "id": "7bb4a6ea",
   "metadata": {},
   "source": [
    "*Observations*\n",
    "- As there is huge support(no of records for class 0), weighted F1 score always end up being near perfect 1, but real story lies in precision and recall scores of borh class 0 and 1.  \n",
    "- Best trade-off for precision and recall is seen weight 10 assigned to Fraud Class.  \n",
    "- As the weights increase, recall score also increase but precision keeps going down."
   ]
  },
  {
   "cell_type": "markdown",
   "id": "0d37a5e6",
   "metadata": {},
   "source": [
    "#### Testing other Classifiers\n",
    "\n",
    "Now, that we have found ideal weights for our calsses, let's test few other classifiers as well"
   ]
  },
  {
   "cell_type": "code",
   "execution_count": 120,
   "id": "f89177b1",
   "metadata": {},
   "outputs": [
    {
     "name": "stdout",
     "output_type": "stream",
     "text": [
      "              precision    recall  f1-score   support\n",
      "\n",
      "           0       1.00      1.00      1.00     71079\n",
      "           1       0.90      0.80      0.84       123\n",
      "\n",
      "    accuracy                           1.00     71202\n",
      "   macro avg       0.95      0.90      0.92     71202\n",
      "weighted avg       1.00      1.00      1.00     71202\n",
      "\n"
     ]
    }
   ],
   "source": [
    "from sklearn.svm import LinearSVC\n",
    "    \n",
    "lsvc = LinearSVC(class_weight={0:1,1:10})\n",
    "lsvc.fit(X_train, y_train)\n",
    "y_pred = lsvc.predict(X_test)\n",
    "  \n",
    "print(classification_report(y_test, y_pred))"
   ]
  },
  {
   "cell_type": "code",
   "execution_count": 145,
   "id": "48030c04",
   "metadata": {
    "scrolled": true
   },
   "outputs": [
    {
     "name": "stdout",
     "output_type": "stream",
     "text": [
      "              precision    recall  f1-score   support\n",
      "\n",
      "           0       1.00      1.00      1.00     71079\n",
      "           1       0.96      0.80      0.88       123\n",
      "\n",
      "    accuracy                           1.00     71202\n",
      "   macro avg       0.98      0.90      0.94     71202\n",
      "weighted avg       1.00      1.00      1.00     71202\n",
      "\n"
     ]
    }
   ],
   "source": [
    "from sklearn.ensemble import RandomForestClassifier\n",
    "    \n",
    "rfc = RandomForestClassifier(class_weight={0:1,1:10})\n",
    "rfc.fit(X_train, y_train)\n",
    "y_pred = rfc.predict(X_test)\n",
    "  \n",
    "print(classification_report(y_test, y_pred))"
   ]
  },
  {
   "cell_type": "markdown",
   "id": "7353d0ac",
   "metadata": {},
   "source": [
    "RandomForestClassifier performed much better. It has an excellent precision score, but leaves some scope for improvement in recall score.  \n",
    "In our case of Fraud detection, it is important to have a good recall score means model is able to truly detect fraud transactions as much as possible"
   ]
  },
  {
   "cell_type": "markdown",
   "id": "fcdb3642",
   "metadata": {},
   "source": [
    "***Handling imbalance using oversampling***  "
   ]
  },
  {
   "cell_type": "markdown",
   "id": "007f42de",
   "metadata": {},
   "source": [
    "Let's try one of the oversampling methods- SMOTE, and then use RandomForestClassifier again to check performance"
   ]
  },
  {
   "cell_type": "code",
   "execution_count": 211,
   "id": "5fe55499",
   "metadata": {},
   "outputs": [],
   "source": [
    "# Oversampling minority class, to make it 33% of majority class\n",
    "\n",
    "from imblearn.over_sampling import SMOTE\n",
    "\n",
    "smote = SMOTE(sampling_strategy=0.33, random_state=3)\n",
    "\n",
    "X_sample, y_sample = smote.fit_resample(X_train, y_train)"
   ]
  },
  {
   "cell_type": "code",
   "execution_count": 207,
   "id": "cf132517",
   "metadata": {},
   "outputs": [
    {
     "data": {
      "text/plain": [
       "0   75.19\n",
       "1   24.81\n",
       "Name: Class, dtype: float64"
      ]
     },
     "execution_count": 207,
     "metadata": {},
     "output_type": "execute_result"
    }
   ],
   "source": [
    "y_sample.value_counts(normalize=True)*100"
   ]
  },
  {
   "cell_type": "code",
   "execution_count": 208,
   "id": "08cb31cf",
   "metadata": {},
   "outputs": [
    {
     "data": {
      "text/plain": [
       "0    213236\n",
       "1     70367\n",
       "Name: Class, dtype: int64"
      ]
     },
     "execution_count": 208,
     "metadata": {},
     "output_type": "execute_result"
    }
   ],
   "source": [
    "y_sample.value_counts()"
   ]
  },
  {
   "cell_type": "code",
   "execution_count": 209,
   "id": "9d69c1fe",
   "metadata": {},
   "outputs": [
    {
     "name": "stdout",
     "output_type": "stream",
     "text": [
      "              precision    recall  f1-score   support\n",
      "\n",
      "           0       1.00      1.00      1.00     71079\n",
      "           1       0.90      0.86      0.88       123\n",
      "\n",
      "    accuracy                           1.00     71202\n",
      "   macro avg       0.95      0.93      0.94     71202\n",
      "weighted avg       1.00      1.00      1.00     71202\n",
      "\n"
     ]
    }
   ],
   "source": [
    "# Run estimation on oversampled data\n",
    "\n",
    "from sklearn.ensemble import RandomForestClassifier\n",
    "    \n",
    "rfc = RandomForestClassifier()\n",
    "rfc.fit(X_sample, y_sample)\n",
    "y_pred = rfc.predict(X_test)\n",
    "  \n",
    "print(classification_report(y_test, y_pred))"
   ]
  },
  {
   "cell_type": "markdown",
   "id": "cf3398b3",
   "metadata": {},
   "source": [
    "We now see that Precision score reduced by 6% and recall increased by same 6%, as compared to model with class weights.   \n",
    "This is a better trade-off between precision and recall scores"
   ]
  },
  {
   "cell_type": "markdown",
   "id": "5c5d4af9",
   "metadata": {},
   "source": [
    "### Conclusion \n",
    "\n",
    "Generally, the cost of missing a fraud will outweigh the cost of cancelling some legit customer transactions, so ideally we should have a high recall rate. \n",
    "\n",
    "Our model can detect frauds very well (catching 86% of fraud transactions), while at the same time minimizing the user friction and credit card disruptions with a precision of 90%."
   ]
  }
 ],
 "metadata": {
  "kernelspec": {
   "display_name": "Python 3",
   "language": "python",
   "name": "python3"
  },
  "language_info": {
   "codemirror_mode": {
    "name": "ipython",
    "version": 3
   },
   "file_extension": ".py",
   "mimetype": "text/x-python",
   "name": "python",
   "nbconvert_exporter": "python",
   "pygments_lexer": "ipython3",
   "version": "3.8.8"
  }
 },
 "nbformat": 4,
 "nbformat_minor": 5
}
