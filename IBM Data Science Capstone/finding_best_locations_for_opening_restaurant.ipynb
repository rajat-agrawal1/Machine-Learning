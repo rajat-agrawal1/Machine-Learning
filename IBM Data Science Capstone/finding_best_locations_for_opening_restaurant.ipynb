{
 "cells": [
  {
   "cell_type": "markdown",
   "metadata": {},
   "source": [
    "## Finding Best Locations in London, Melbourne and NewYork to open Goila Butter Chicken's Cloud Kitchen\n"
   ]
  },
  {
   "cell_type": "markdown",
   "metadata": {},
   "source": [
    "This project is divided into 3 parts given below. Please click on name to open the notebook. "
   ]
  },
  {
   "cell_type": "markdown",
   "metadata": {},
   "source": [
    "1) [Find Best Locations in London to open Goila Butter Chicken's Cloud Kitchen and Compare with its Actual Location](https://nbviewer.jupyter.org/github/rajat-agrawal1/Coursera_Capstone/blob/main/Applied%20Data%20Science%20Capstone/finding_location_london.ipynb)\n",
    "  \n",
    "2) [Find Best Locations in Melbourne to open Goila Butter Chicken's Cloud Kitchen](https://nbviewer.jupyter.org/github/rajat-agrawal1/Coursera_Capstone/blob/main/Applied%20Data%20Science%20Capstone/finding_location_melbourne.ipynb)\n",
    "  \n",
    "3) [Find Best Locations in New York to open Goila Butter Chicken's Cloud Kitchen](https://nbviewer.jupyter.org/github/rajat-agrawal1/Coursera_Capstone/blob/main/Applied%20Data%20Science%20Capstone/finding_location_newyork.ipynb)"
   ]
  }
 ],
 "metadata": {
  "kernelspec": {
   "display_name": "Python 3",
   "language": "python",
   "name": "python3"
  },
  "language_info": {
   "codemirror_mode": {
    "name": "ipython",
    "version": 3
   },
   "file_extension": ".py",
   "mimetype": "text/x-python",
   "name": "python",
   "nbconvert_exporter": "python",
   "pygments_lexer": "ipython3",
   "version": "3.8.8"
  }
 },
 "nbformat": 4,
 "nbformat_minor": 4
}
